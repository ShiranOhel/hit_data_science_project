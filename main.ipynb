{
 "cells": [
  {
   "attachments": {},
   "cell_type": "markdown",
   "metadata": {},
   "source": [
    "# Diamond price prediction\n",
    "## Data science final project\n",
    "<img width=\"1100\" height=\"300\" src=\"https://mp20-assets.ritani.com/cms/diamonds_banner_strapi_size_1464a7a8d7/diamonds_banner_strapi_size_1464a7a8d7.png\">"
   ]
  },
  {
   "attachments": {},
   "cell_type": "markdown",
   "metadata": {},
   "source": [
    "### Background\n",
    "Diamond is a solid mineral made of clean carbon. It is the most solid and bright mineral exist.  \n",
    "Diamonds are mostly used for jewerly.  \n",
    "Like many other things in life (cars for example), diamonds has a known and common price list, which determines the price for each diamond, based on the following parameters:\n",
    "1. Carat\n",
    "2. Color\n",
    "3. Clarity\n",
    "4. Cut\n",
    "\n",
    "The thing is, that there are much more details about the diamond, which can also affect it's price:\n",
    "1. Fluorescence\n",
    "2. Symmetry\n",
    "3. Polish\n",
    "4. Depth percentage\n",
    "5. Table percentage\n",
    "\n",
    "That led me to try and figure out, if we can predict the price of a diamond based of all of these parameters."
   ]
  },
  {
   "cell_type": "markdown",
   "metadata": {},
   "source": [
    "### Steps\n",
    "1. Data collection\n",
    "2. Data manipulation and cleaning\n",
    "3. EDA and visualizations\n",
    "4. Model train and prediction\n",
    "5. Summary"
   ]
  },
  {
   "attachments": {},
   "cell_type": "markdown",
   "metadata": {},
   "source": [
    "### 1. Data collection\n",
    "I found the website https://brilliantearth.com that sells diamonds online.  \n",
    "I wrote a script `scripts/fetch_diamonds_data.py` to scrape this website.  \n",
    "The script gets carat range (min, max) and scrapes about 1000 diamonds from the website.  \n",
    "I ran the script 5 times with different carat ranges to get 5,000 dimaonds.  \n",
    "The diamonds that I fetched are round diamonds, in the carat range of 0.90-1.20.  "
   ]
  },
  {
   "attachments": {},
   "cell_type": "markdown",
   "metadata": {},
   "source": [
    "### 2. Data manipulation and cleaning\n",
    "Required imports:"
   ]
  },
  {
   "cell_type": "code",
   "execution_count": 1,
   "metadata": {},
   "outputs": [],
   "source": [
    "import pandas as pd\n",
    "import matplotlib as mpl\n",
    "from matplotlib import pyplot as plt\n",
    "%matplotlib inline\n",
    "import seaborn as sns\n",
    "from sklearn.model_selection import train_test_split\n",
    "from sklearn.linear_model import LinearRegression\n",
    "from sklearn.metrics import r2_score, f1_score"
   ]
  },
  {
   "attachments": {},
   "cell_type": "markdown",
   "metadata": {},
   "source": [
    "Let's explore the dataset real quick:"
   ]
  },
  {
   "cell_type": "code",
   "execution_count": 2,
   "metadata": {},
   "outputs": [
    {
     "name": "stdout",
     "output_type": "stream",
     "text": [
      "<class 'pandas.core.frame.DataFrame'>\n",
      "RangeIndex: 4938 entries, 0 to 4937\n",
      "Data columns (total 18 columns):\n",
      " #   Column        Non-Null Count  Dtype  \n",
      "---  ------        --------------  -----  \n",
      " 0   stock_number  4938 non-null   object \n",
      " 1   gemstone      4938 non-null   object \n",
      " 2   origin        4938 non-null   object \n",
      " 3   price         4938 non-null   object \n",
      " 4   carat         4938 non-null   float64\n",
      " 5   shape         4938 non-null   object \n",
      " 6   cut           4938 non-null   object \n",
      " 7   color         4938 non-null   object \n",
      " 8   clarity       4938 non-null   object \n",
      " 9   measurements  4938 non-null   object \n",
      " 10  table         4938 non-null   object \n",
      " 11  depth         4938 non-null   object \n",
      " 12  symmetry      4938 non-null   object \n",
      " 13  polish        4938 non-null   object \n",
      " 14  girdle        4938 non-null   object \n",
      " 15  culet         4933 non-null   object \n",
      " 16  fluorescence  4889 non-null   object \n",
      " 17  diamond_id    4874 non-null   float64\n",
      "dtypes: float64(2), object(16)\n",
      "memory usage: 694.5+ KB\n"
     ]
    },
    {
     "data": {
      "text/html": [
       "<div>\n",
       "<style scoped>\n",
       "    .dataframe tbody tr th:only-of-type {\n",
       "        vertical-align: middle;\n",
       "    }\n",
       "\n",
       "    .dataframe tbody tr th {\n",
       "        vertical-align: top;\n",
       "    }\n",
       "\n",
       "    .dataframe thead th {\n",
       "        text-align: right;\n",
       "    }\n",
       "</style>\n",
       "<table border=\"1\" class=\"dataframe\">\n",
       "  <thead>\n",
       "    <tr style=\"text-align: right;\">\n",
       "      <th></th>\n",
       "      <th>stock_number</th>\n",
       "      <th>gemstone</th>\n",
       "      <th>origin</th>\n",
       "      <th>price</th>\n",
       "      <th>carat</th>\n",
       "      <th>shape</th>\n",
       "      <th>cut</th>\n",
       "      <th>color</th>\n",
       "      <th>clarity</th>\n",
       "      <th>measurements</th>\n",
       "      <th>table</th>\n",
       "      <th>depth</th>\n",
       "      <th>symmetry</th>\n",
       "      <th>polish</th>\n",
       "      <th>girdle</th>\n",
       "      <th>culet</th>\n",
       "      <th>fluorescence</th>\n",
       "      <th>diamond_id</th>\n",
       "    </tr>\n",
       "  </thead>\n",
       "  <tbody>\n",
       "    <tr>\n",
       "      <th>0</th>\n",
       "      <td>5763178A</td>\n",
       "      <td>Natural, untreated diamond</td>\n",
       "      <td>Botswana Sort</td>\n",
       "      <td>$2,470</td>\n",
       "      <td>0.9</td>\n",
       "      <td>Round</td>\n",
       "      <td>Good</td>\n",
       "      <td>F</td>\n",
       "      <td>SI2</td>\n",
       "      <td>5.96mm x 5.91mm x 3.89mm</td>\n",
       "      <td>63.0%</td>\n",
       "      <td>65.5%</td>\n",
       "      <td>Good</td>\n",
       "      <td>Very Good</td>\n",
       "      <td>6.5</td>\n",
       "      <td>Pointed</td>\n",
       "      <td>None</td>\n",
       "      <td>15407676.0</td>\n",
       "    </tr>\n",
       "    <tr>\n",
       "      <th>1</th>\n",
       "      <td>6450036Y</td>\n",
       "      <td>Natural, untreated diamond</td>\n",
       "      <td>Botswana Sort</td>\n",
       "      <td>$2,470</td>\n",
       "      <td>0.9</td>\n",
       "      <td>Round</td>\n",
       "      <td>Very Good</td>\n",
       "      <td>J</td>\n",
       "      <td>VS2</td>\n",
       "      <td>6.04mm x 5.99mm x 3.88mm</td>\n",
       "      <td>59.0%</td>\n",
       "      <td>64.5%</td>\n",
       "      <td>Excellent</td>\n",
       "      <td>Very Good</td>\n",
       "      <td>Slightly Thick - Thick</td>\n",
       "      <td>None</td>\n",
       "      <td>Faint</td>\n",
       "      <td>17667602.0</td>\n",
       "    </tr>\n",
       "    <tr>\n",
       "      <th>2</th>\n",
       "      <td>6057071A</td>\n",
       "      <td>Natural, untreated diamond</td>\n",
       "      <td>Botswana Sort</td>\n",
       "      <td>$2,470</td>\n",
       "      <td>0.9</td>\n",
       "      <td>Round</td>\n",
       "      <td>Very Good</td>\n",
       "      <td>I</td>\n",
       "      <td>SI2</td>\n",
       "      <td>6.00mm x 5.93mm x 3.85mm</td>\n",
       "      <td>57.0%</td>\n",
       "      <td>64.6%</td>\n",
       "      <td>Very Good</td>\n",
       "      <td>Very Good</td>\n",
       "      <td>Thick</td>\n",
       "      <td>None</td>\n",
       "      <td>None</td>\n",
       "      <td>17504118.0</td>\n",
       "    </tr>\n",
       "    <tr>\n",
       "      <th>3</th>\n",
       "      <td>5073535A</td>\n",
       "      <td>Natural, untreated diamond</td>\n",
       "      <td>Botswana Sort</td>\n",
       "      <td>$2,470</td>\n",
       "      <td>0.9</td>\n",
       "      <td>Round</td>\n",
       "      <td>Very Good</td>\n",
       "      <td>H</td>\n",
       "      <td>SI2</td>\n",
       "      <td>6.14mm x 6.09mm x 3.85mm</td>\n",
       "      <td>57.0%</td>\n",
       "      <td>63.0%</td>\n",
       "      <td>Excellent</td>\n",
       "      <td>Excellent</td>\n",
       "      <td>4.5</td>\n",
       "      <td>Pointed</td>\n",
       "      <td>None</td>\n",
       "      <td>15405592.0</td>\n",
       "    </tr>\n",
       "    <tr>\n",
       "      <th>4</th>\n",
       "      <td>5985294A</td>\n",
       "      <td>Natural, untreated diamond</td>\n",
       "      <td>Botswana Sort</td>\n",
       "      <td>$2,480</td>\n",
       "      <td>0.9</td>\n",
       "      <td>Round</td>\n",
       "      <td>Good</td>\n",
       "      <td>H</td>\n",
       "      <td>SI1</td>\n",
       "      <td>5.84mm x 5.79mm x 3.91mm</td>\n",
       "      <td>59.0%</td>\n",
       "      <td>67.3%</td>\n",
       "      <td>Very Good</td>\n",
       "      <td>Excellent</td>\n",
       "      <td>Very Thick</td>\n",
       "      <td>None</td>\n",
       "      <td>None</td>\n",
       "      <td>17750242.0</td>\n",
       "    </tr>\n",
       "  </tbody>\n",
       "</table>\n",
       "</div>"
      ],
      "text/plain": [
       "  stock_number                    gemstone         origin   price  carat  \\\n",
       "0     5763178A  Natural, untreated diamond  Botswana Sort  $2,470    0.9   \n",
       "1     6450036Y  Natural, untreated diamond  Botswana Sort  $2,470    0.9   \n",
       "2     6057071A  Natural, untreated diamond  Botswana Sort  $2,470    0.9   \n",
       "3     5073535A  Natural, untreated diamond  Botswana Sort  $2,470    0.9   \n",
       "4     5985294A  Natural, untreated diamond  Botswana Sort  $2,480    0.9   \n",
       "\n",
       "   shape        cut color clarity              measurements  table  depth  \\\n",
       "0  Round       Good     F     SI2  5.96mm x 5.91mm x 3.89mm  63.0%  65.5%   \n",
       "1  Round  Very Good     J     VS2  6.04mm x 5.99mm x 3.88mm  59.0%  64.5%   \n",
       "2  Round  Very Good     I     SI2  6.00mm x 5.93mm x 3.85mm  57.0%  64.6%   \n",
       "3  Round  Very Good     H     SI2  6.14mm x 6.09mm x 3.85mm  57.0%  63.0%   \n",
       "4  Round       Good     H     SI1  5.84mm x 5.79mm x 3.91mm  59.0%  67.3%   \n",
       "\n",
       "    symmetry     polish                  girdle    culet fluorescence  \\\n",
       "0       Good  Very Good                     6.5  Pointed         None   \n",
       "1  Excellent  Very Good  Slightly Thick - Thick     None        Faint   \n",
       "2  Very Good  Very Good                   Thick     None         None   \n",
       "3  Excellent  Excellent                     4.5  Pointed         None   \n",
       "4  Very Good  Excellent              Very Thick     None         None   \n",
       "\n",
       "   diamond_id  \n",
       "0  15407676.0  \n",
       "1  17667602.0  \n",
       "2  17504118.0  \n",
       "3  15405592.0  \n",
       "4  17750242.0  "
      ]
     },
     "execution_count": 2,
     "metadata": {},
     "output_type": "execute_result"
    }
   ],
   "source": [
    "df = pd.read_csv(\"data/diamonds.csv\", thousands=',')\n",
    "df.info()\n",
    "df.head()"
   ]
  },
  {
   "attachments": {},
   "cell_type": "markdown",
   "metadata": {},
   "source": [
    "Seems that `diamond_id`, `fluorescence` and `culet` has some missing values, so I will drop these columns.  \n",
    "Also let's remove duplicates and see if the amount of rows has changed."
   ]
  },
  {
   "cell_type": "code",
   "execution_count": 3,
   "metadata": {},
   "outputs": [
    {
     "name": "stdout",
     "output_type": "stream",
     "text": [
      "<class 'pandas.core.frame.DataFrame'>\n",
      "Int64Index: 4899 entries, 0 to 4910\n",
      "Data columns (total 15 columns):\n",
      " #   Column        Non-Null Count  Dtype  \n",
      "---  ------        --------------  -----  \n",
      " 0   stock_number  4899 non-null   object \n",
      " 1   gemstone      4899 non-null   object \n",
      " 2   origin        4899 non-null   object \n",
      " 3   price         4899 non-null   object \n",
      " 4   carat         4899 non-null   float64\n",
      " 5   shape         4899 non-null   object \n",
      " 6   cut           4899 non-null   object \n",
      " 7   color         4899 non-null   object \n",
      " 8   clarity       4899 non-null   object \n",
      " 9   measurements  4899 non-null   object \n",
      " 10  table         4899 non-null   object \n",
      " 11  depth         4899 non-null   object \n",
      " 12  symmetry      4899 non-null   object \n",
      " 13  polish        4899 non-null   object \n",
      " 14  girdle        4899 non-null   object \n",
      "dtypes: float64(1), object(14)\n",
      "memory usage: 612.4+ KB\n"
     ]
    },
    {
     "data": {
      "text/html": [
       "<div>\n",
       "<style scoped>\n",
       "    .dataframe tbody tr th:only-of-type {\n",
       "        vertical-align: middle;\n",
       "    }\n",
       "\n",
       "    .dataframe tbody tr th {\n",
       "        vertical-align: top;\n",
       "    }\n",
       "\n",
       "    .dataframe thead th {\n",
       "        text-align: right;\n",
       "    }\n",
       "</style>\n",
       "<table border=\"1\" class=\"dataframe\">\n",
       "  <thead>\n",
       "    <tr style=\"text-align: right;\">\n",
       "      <th></th>\n",
       "      <th>stock_number</th>\n",
       "      <th>gemstone</th>\n",
       "      <th>origin</th>\n",
       "      <th>price</th>\n",
       "      <th>carat</th>\n",
       "      <th>shape</th>\n",
       "      <th>cut</th>\n",
       "      <th>color</th>\n",
       "      <th>clarity</th>\n",
       "      <th>measurements</th>\n",
       "      <th>table</th>\n",
       "      <th>depth</th>\n",
       "      <th>symmetry</th>\n",
       "      <th>polish</th>\n",
       "      <th>girdle</th>\n",
       "    </tr>\n",
       "  </thead>\n",
       "  <tbody>\n",
       "    <tr>\n",
       "      <th>0</th>\n",
       "      <td>5763178A</td>\n",
       "      <td>Natural, untreated diamond</td>\n",
       "      <td>Botswana Sort</td>\n",
       "      <td>$2,470</td>\n",
       "      <td>0.9</td>\n",
       "      <td>Round</td>\n",
       "      <td>Good</td>\n",
       "      <td>F</td>\n",
       "      <td>SI2</td>\n",
       "      <td>5.96mm x 5.91mm x 3.89mm</td>\n",
       "      <td>63.0%</td>\n",
       "      <td>65.5%</td>\n",
       "      <td>Good</td>\n",
       "      <td>Very Good</td>\n",
       "      <td>6.5</td>\n",
       "    </tr>\n",
       "    <tr>\n",
       "      <th>1</th>\n",
       "      <td>6450036Y</td>\n",
       "      <td>Natural, untreated diamond</td>\n",
       "      <td>Botswana Sort</td>\n",
       "      <td>$2,470</td>\n",
       "      <td>0.9</td>\n",
       "      <td>Round</td>\n",
       "      <td>Very Good</td>\n",
       "      <td>J</td>\n",
       "      <td>VS2</td>\n",
       "      <td>6.04mm x 5.99mm x 3.88mm</td>\n",
       "      <td>59.0%</td>\n",
       "      <td>64.5%</td>\n",
       "      <td>Excellent</td>\n",
       "      <td>Very Good</td>\n",
       "      <td>Slightly Thick - Thick</td>\n",
       "    </tr>\n",
       "    <tr>\n",
       "      <th>2</th>\n",
       "      <td>6057071A</td>\n",
       "      <td>Natural, untreated diamond</td>\n",
       "      <td>Botswana Sort</td>\n",
       "      <td>$2,470</td>\n",
       "      <td>0.9</td>\n",
       "      <td>Round</td>\n",
       "      <td>Very Good</td>\n",
       "      <td>I</td>\n",
       "      <td>SI2</td>\n",
       "      <td>6.00mm x 5.93mm x 3.85mm</td>\n",
       "      <td>57.0%</td>\n",
       "      <td>64.6%</td>\n",
       "      <td>Very Good</td>\n",
       "      <td>Very Good</td>\n",
       "      <td>Thick</td>\n",
       "    </tr>\n",
       "    <tr>\n",
       "      <th>3</th>\n",
       "      <td>5073535A</td>\n",
       "      <td>Natural, untreated diamond</td>\n",
       "      <td>Botswana Sort</td>\n",
       "      <td>$2,470</td>\n",
       "      <td>0.9</td>\n",
       "      <td>Round</td>\n",
       "      <td>Very Good</td>\n",
       "      <td>H</td>\n",
       "      <td>SI2</td>\n",
       "      <td>6.14mm x 6.09mm x 3.85mm</td>\n",
       "      <td>57.0%</td>\n",
       "      <td>63.0%</td>\n",
       "      <td>Excellent</td>\n",
       "      <td>Excellent</td>\n",
       "      <td>4.5</td>\n",
       "    </tr>\n",
       "    <tr>\n",
       "      <th>4</th>\n",
       "      <td>5985294A</td>\n",
       "      <td>Natural, untreated diamond</td>\n",
       "      <td>Botswana Sort</td>\n",
       "      <td>$2,480</td>\n",
       "      <td>0.9</td>\n",
       "      <td>Round</td>\n",
       "      <td>Good</td>\n",
       "      <td>H</td>\n",
       "      <td>SI1</td>\n",
       "      <td>5.84mm x 5.79mm x 3.91mm</td>\n",
       "      <td>59.0%</td>\n",
       "      <td>67.3%</td>\n",
       "      <td>Very Good</td>\n",
       "      <td>Excellent</td>\n",
       "      <td>Very Thick</td>\n",
       "    </tr>\n",
       "  </tbody>\n",
       "</table>\n",
       "</div>"
      ],
      "text/plain": [
       "  stock_number                    gemstone         origin   price  carat  \\\n",
       "0     5763178A  Natural, untreated diamond  Botswana Sort  $2,470    0.9   \n",
       "1     6450036Y  Natural, untreated diamond  Botswana Sort  $2,470    0.9   \n",
       "2     6057071A  Natural, untreated diamond  Botswana Sort  $2,470    0.9   \n",
       "3     5073535A  Natural, untreated diamond  Botswana Sort  $2,470    0.9   \n",
       "4     5985294A  Natural, untreated diamond  Botswana Sort  $2,480    0.9   \n",
       "\n",
       "   shape        cut color clarity              measurements  table  depth  \\\n",
       "0  Round       Good     F     SI2  5.96mm x 5.91mm x 3.89mm  63.0%  65.5%   \n",
       "1  Round  Very Good     J     VS2  6.04mm x 5.99mm x 3.88mm  59.0%  64.5%   \n",
       "2  Round  Very Good     I     SI2  6.00mm x 5.93mm x 3.85mm  57.0%  64.6%   \n",
       "3  Round  Very Good     H     SI2  6.14mm x 6.09mm x 3.85mm  57.0%  63.0%   \n",
       "4  Round       Good     H     SI1  5.84mm x 5.79mm x 3.91mm  59.0%  67.3%   \n",
       "\n",
       "    symmetry     polish                  girdle  \n",
       "0       Good  Very Good                     6.5  \n",
       "1  Excellent  Very Good  Slightly Thick - Thick  \n",
       "2  Very Good  Very Good                   Thick  \n",
       "3  Excellent  Excellent                     4.5  \n",
       "4  Very Good  Excellent              Very Thick  "
      ]
     },
     "execution_count": 3,
     "metadata": {},
     "output_type": "execute_result"
    }
   ],
   "source": [
    "df.drop(columns=['diamond_id', 'fluorescence', 'culet'], inplace=True)\n",
    "df.drop_duplicates(inplace=True)\n",
    "df.info()\n",
    "df.head()"
   ]
  },
  {
   "attachments": {},
   "cell_type": "markdown",
   "metadata": {},
   "source": [
    "Data preparation actions:  \n",
    "1. Drop columns `stock_number`, `gemstone`, `origin` as they are not relevant.\n",
    "2. Column `shape` can be dropped since the entire scraped data is for rounded diamonds.\n",
    "3. Rename `table` &rarr; `table_pct`.\n",
    "4. Rename `depth` &rarr; `depth_pct`.\n",
    "5. Remove percentage sign from the data.\n",
    "6. Remove dollar sign from `price` column.\n",
    "7. Split `measurements` to three columnds: `x`, `y`, `z`."
   ]
  },
  {
   "cell_type": "code",
   "execution_count": 4,
   "metadata": {},
   "outputs": [
    {
     "name": "stdout",
     "output_type": "stream",
     "text": [
      "<class 'pandas.core.frame.DataFrame'>\n",
      "Int64Index: 4899 entries, 0 to 4910\n",
      "Data columns (total 13 columns):\n",
      " #   Column     Non-Null Count  Dtype  \n",
      "---  ------     --------------  -----  \n",
      " 0   price      4899 non-null   float64\n",
      " 1   carat      4899 non-null   float64\n",
      " 2   cut        4899 non-null   object \n",
      " 3   color      4899 non-null   object \n",
      " 4   clarity    4899 non-null   object \n",
      " 5   table_pct  4899 non-null   float64\n",
      " 6   depth_pct  4899 non-null   float64\n",
      " 7   symmetry   4899 non-null   object \n",
      " 8   polish     4899 non-null   object \n",
      " 9   girdle     4899 non-null   object \n",
      " 10  x          4899 non-null   float64\n",
      " 11  y          4899 non-null   float64\n",
      " 12  z          4899 non-null   float64\n",
      "dtypes: float64(7), object(6)\n",
      "memory usage: 535.8+ KB\n"
     ]
    },
    {
     "data": {
      "text/html": [
       "<div>\n",
       "<style scoped>\n",
       "    .dataframe tbody tr th:only-of-type {\n",
       "        vertical-align: middle;\n",
       "    }\n",
       "\n",
       "    .dataframe tbody tr th {\n",
       "        vertical-align: top;\n",
       "    }\n",
       "\n",
       "    .dataframe thead th {\n",
       "        text-align: right;\n",
       "    }\n",
       "</style>\n",
       "<table border=\"1\" class=\"dataframe\">\n",
       "  <thead>\n",
       "    <tr style=\"text-align: right;\">\n",
       "      <th></th>\n",
       "      <th>price</th>\n",
       "      <th>carat</th>\n",
       "      <th>cut</th>\n",
       "      <th>color</th>\n",
       "      <th>clarity</th>\n",
       "      <th>table_pct</th>\n",
       "      <th>depth_pct</th>\n",
       "      <th>symmetry</th>\n",
       "      <th>polish</th>\n",
       "      <th>girdle</th>\n",
       "      <th>x</th>\n",
       "      <th>y</th>\n",
       "      <th>z</th>\n",
       "    </tr>\n",
       "  </thead>\n",
       "  <tbody>\n",
       "    <tr>\n",
       "      <th>0</th>\n",
       "      <td>2470.0</td>\n",
       "      <td>0.9</td>\n",
       "      <td>Good</td>\n",
       "      <td>F</td>\n",
       "      <td>SI2</td>\n",
       "      <td>63.0</td>\n",
       "      <td>65.5</td>\n",
       "      <td>Good</td>\n",
       "      <td>Very Good</td>\n",
       "      <td>6.5</td>\n",
       "      <td>5.96</td>\n",
       "      <td>5.91</td>\n",
       "      <td>3.89</td>\n",
       "    </tr>\n",
       "    <tr>\n",
       "      <th>1</th>\n",
       "      <td>2470.0</td>\n",
       "      <td>0.9</td>\n",
       "      <td>Very Good</td>\n",
       "      <td>J</td>\n",
       "      <td>VS2</td>\n",
       "      <td>59.0</td>\n",
       "      <td>64.5</td>\n",
       "      <td>Excellent</td>\n",
       "      <td>Very Good</td>\n",
       "      <td>Slightly Thick - Thick</td>\n",
       "      <td>6.04</td>\n",
       "      <td>5.99</td>\n",
       "      <td>3.88</td>\n",
       "    </tr>\n",
       "    <tr>\n",
       "      <th>2</th>\n",
       "      <td>2470.0</td>\n",
       "      <td>0.9</td>\n",
       "      <td>Very Good</td>\n",
       "      <td>I</td>\n",
       "      <td>SI2</td>\n",
       "      <td>57.0</td>\n",
       "      <td>64.6</td>\n",
       "      <td>Very Good</td>\n",
       "      <td>Very Good</td>\n",
       "      <td>Thick</td>\n",
       "      <td>6.00</td>\n",
       "      <td>5.93</td>\n",
       "      <td>3.85</td>\n",
       "    </tr>\n",
       "    <tr>\n",
       "      <th>3</th>\n",
       "      <td>2470.0</td>\n",
       "      <td>0.9</td>\n",
       "      <td>Very Good</td>\n",
       "      <td>H</td>\n",
       "      <td>SI2</td>\n",
       "      <td>57.0</td>\n",
       "      <td>63.0</td>\n",
       "      <td>Excellent</td>\n",
       "      <td>Excellent</td>\n",
       "      <td>4.5</td>\n",
       "      <td>6.14</td>\n",
       "      <td>6.09</td>\n",
       "      <td>3.85</td>\n",
       "    </tr>\n",
       "    <tr>\n",
       "      <th>4</th>\n",
       "      <td>2480.0</td>\n",
       "      <td>0.9</td>\n",
       "      <td>Good</td>\n",
       "      <td>H</td>\n",
       "      <td>SI1</td>\n",
       "      <td>59.0</td>\n",
       "      <td>67.3</td>\n",
       "      <td>Very Good</td>\n",
       "      <td>Excellent</td>\n",
       "      <td>Very Thick</td>\n",
       "      <td>5.84</td>\n",
       "      <td>5.79</td>\n",
       "      <td>3.91</td>\n",
       "    </tr>\n",
       "  </tbody>\n",
       "</table>\n",
       "</div>"
      ],
      "text/plain": [
       "    price  carat        cut color clarity  table_pct  depth_pct   symmetry  \\\n",
       "0  2470.0    0.9       Good     F     SI2       63.0       65.5       Good   \n",
       "1  2470.0    0.9  Very Good     J     VS2       59.0       64.5  Excellent   \n",
       "2  2470.0    0.9  Very Good     I     SI2       57.0       64.6  Very Good   \n",
       "3  2470.0    0.9  Very Good     H     SI2       57.0       63.0  Excellent   \n",
       "4  2480.0    0.9       Good     H     SI1       59.0       67.3  Very Good   \n",
       "\n",
       "      polish                  girdle     x     y     z  \n",
       "0  Very Good                     6.5  5.96  5.91  3.89  \n",
       "1  Very Good  Slightly Thick - Thick  6.04  5.99  3.88  \n",
       "2  Very Good                   Thick  6.00  5.93  3.85  \n",
       "3  Excellent                     4.5  6.14  6.09  3.85  \n",
       "4  Excellent              Very Thick  5.84  5.79  3.91  "
      ]
     },
     "execution_count": 4,
     "metadata": {},
     "output_type": "execute_result"
    }
   ],
   "source": [
    "df.drop(columns=['stock_number', 'gemstone', 'origin', 'shape'], inplace=True)\n",
    "df.rename(columns={'table': 'table_pct', 'depth': 'depth_pct'}, inplace=True)\n",
    "\n",
    "df['table_pct'] = df['table_pct'].str.rstrip('%').astype('float')\n",
    "df['depth_pct'] = df['depth_pct'].str.rstrip('%').astype('float')\n",
    "\n",
    "df['price'] = df['price'].str.replace(r',', '', regex=True)\n",
    "df['price'] = df['price'].str.replace(r'$', '', regex=True).astype('float')\n",
    "\n",
    "df['measurements'] = df['measurements'].str.replace('mm', '')\n",
    "df['measurements'] = df['measurements'].str.replace(' ', '')\n",
    "df[['x', 'y', 'z']] = df['measurements'].str.split('x', n=2, expand=True).astype('float')\n",
    "df.drop(columns=['measurements'], inplace=True)\n",
    "\n",
    "df.info()\n",
    "df.head()"
   ]
  },
  {
   "attachments": {},
   "cell_type": "markdown",
   "metadata": {},
   "source": [
    "Now, the most important columns `color`, `clarity`, `cut` will be converted from categorical to numeric.  "
   ]
  },
  {
   "cell_type": "code",
   "execution_count": 5,
   "metadata": {},
   "outputs": [
    {
     "name": "stdout",
     "output_type": "stream",
     "text": [
      "Unique values for column color - ['F' 'J' 'I' 'H' 'E' 'G' 'D']\n",
      "Unique values for column clarity - ['SI2' 'VS2' 'SI1' 'VS1' 'VVS2' 'VVS1' 'IF' 'FL']\n",
      "Unique values for column cut - ['Good' 'Very Good' 'Ideal' 'Super Ideal' 'Fair']\n"
     ]
    }
   ],
   "source": [
    "cols = ['color', 'clarity', 'cut']\n",
    "\n",
    "for col in cols:\n",
    "    print(f\"Unique values for column {col} - {pd.unique(df[col])}\")"
   ]
  },
  {
   "cell_type": "code",
   "execution_count": 6,
   "metadata": {},
   "outputs": [
    {
     "data": {
      "text/html": [
       "<div>\n",
       "<style scoped>\n",
       "    .dataframe tbody tr th:only-of-type {\n",
       "        vertical-align: middle;\n",
       "    }\n",
       "\n",
       "    .dataframe tbody tr th {\n",
       "        vertical-align: top;\n",
       "    }\n",
       "\n",
       "    .dataframe thead th {\n",
       "        text-align: right;\n",
       "    }\n",
       "</style>\n",
       "<table border=\"1\" class=\"dataframe\">\n",
       "  <thead>\n",
       "    <tr style=\"text-align: right;\">\n",
       "      <th></th>\n",
       "      <th>price</th>\n",
       "      <th>carat</th>\n",
       "      <th>cut</th>\n",
       "      <th>color</th>\n",
       "      <th>clarity</th>\n",
       "      <th>table_pct</th>\n",
       "      <th>depth_pct</th>\n",
       "      <th>symmetry</th>\n",
       "      <th>polish</th>\n",
       "      <th>girdle</th>\n",
       "      <th>x</th>\n",
       "      <th>y</th>\n",
       "      <th>z</th>\n",
       "    </tr>\n",
       "  </thead>\n",
       "  <tbody>\n",
       "    <tr>\n",
       "      <th>0</th>\n",
       "      <td>2470.0</td>\n",
       "      <td>0.9</td>\n",
       "      <td>2</td>\n",
       "      <td>5</td>\n",
       "      <td>1</td>\n",
       "      <td>63.0</td>\n",
       "      <td>65.5</td>\n",
       "      <td>Good</td>\n",
       "      <td>Very Good</td>\n",
       "      <td>6.5</td>\n",
       "      <td>5.96</td>\n",
       "      <td>5.91</td>\n",
       "      <td>3.89</td>\n",
       "    </tr>\n",
       "    <tr>\n",
       "      <th>1</th>\n",
       "      <td>2470.0</td>\n",
       "      <td>0.9</td>\n",
       "      <td>3</td>\n",
       "      <td>1</td>\n",
       "      <td>3</td>\n",
       "      <td>59.0</td>\n",
       "      <td>64.5</td>\n",
       "      <td>Excellent</td>\n",
       "      <td>Very Good</td>\n",
       "      <td>Slightly Thick - Thick</td>\n",
       "      <td>6.04</td>\n",
       "      <td>5.99</td>\n",
       "      <td>3.88</td>\n",
       "    </tr>\n",
       "    <tr>\n",
       "      <th>2</th>\n",
       "      <td>2470.0</td>\n",
       "      <td>0.9</td>\n",
       "      <td>3</td>\n",
       "      <td>2</td>\n",
       "      <td>1</td>\n",
       "      <td>57.0</td>\n",
       "      <td>64.6</td>\n",
       "      <td>Very Good</td>\n",
       "      <td>Very Good</td>\n",
       "      <td>Thick</td>\n",
       "      <td>6.00</td>\n",
       "      <td>5.93</td>\n",
       "      <td>3.85</td>\n",
       "    </tr>\n",
       "    <tr>\n",
       "      <th>3</th>\n",
       "      <td>2470.0</td>\n",
       "      <td>0.9</td>\n",
       "      <td>3</td>\n",
       "      <td>3</td>\n",
       "      <td>1</td>\n",
       "      <td>57.0</td>\n",
       "      <td>63.0</td>\n",
       "      <td>Excellent</td>\n",
       "      <td>Excellent</td>\n",
       "      <td>4.5</td>\n",
       "      <td>6.14</td>\n",
       "      <td>6.09</td>\n",
       "      <td>3.85</td>\n",
       "    </tr>\n",
       "    <tr>\n",
       "      <th>4</th>\n",
       "      <td>2480.0</td>\n",
       "      <td>0.9</td>\n",
       "      <td>2</td>\n",
       "      <td>3</td>\n",
       "      <td>2</td>\n",
       "      <td>59.0</td>\n",
       "      <td>67.3</td>\n",
       "      <td>Very Good</td>\n",
       "      <td>Excellent</td>\n",
       "      <td>Very Thick</td>\n",
       "      <td>5.84</td>\n",
       "      <td>5.79</td>\n",
       "      <td>3.91</td>\n",
       "    </tr>\n",
       "  </tbody>\n",
       "</table>\n",
       "</div>"
      ],
      "text/plain": [
       "    price  carat  cut  color  clarity  table_pct  depth_pct   symmetry  \\\n",
       "0  2470.0    0.9    2      5        1       63.0       65.5       Good   \n",
       "1  2470.0    0.9    3      1        3       59.0       64.5  Excellent   \n",
       "2  2470.0    0.9    3      2        1       57.0       64.6  Very Good   \n",
       "3  2470.0    0.9    3      3        1       57.0       63.0  Excellent   \n",
       "4  2480.0    0.9    2      3        2       59.0       67.3  Very Good   \n",
       "\n",
       "      polish                  girdle     x     y     z  \n",
       "0  Very Good                     6.5  5.96  5.91  3.89  \n",
       "1  Very Good  Slightly Thick - Thick  6.04  5.99  3.88  \n",
       "2  Very Good                   Thick  6.00  5.93  3.85  \n",
       "3  Excellent                     4.5  6.14  6.09  3.85  \n",
       "4  Excellent              Very Thick  5.84  5.79  3.91  "
      ]
     },
     "execution_count": 6,
     "metadata": {},
     "output_type": "execute_result"
    }
   ],
   "source": [
    "df['color'].replace(to_replace=['D', 'E', 'F', 'G', 'H', 'I', 'J'],\n",
    "    value=[7, 6, 5, 4, 3, 2, 1], inplace=True)\n",
    "\n",
    "df['clarity'].replace(to_replace=['FL', 'IF', 'VVS1', 'VVS2', 'VS1', 'VS2', 'SI1', 'SI2'],\n",
    "    value=[8, 7, 6, 5, 4, 3, 2, 1], inplace=True)\n",
    "\n",
    "df['cut'].replace(to_replace=['Super Ideal', 'Ideal', 'Very Good', 'Good', 'Fair'],\n",
    "    value=[5, 4, 3, 2, 1], inplace=True)\n",
    "\n",
    "df.head()"
   ]
  },
  {
   "attachments": {},
   "cell_type": "markdown",
   "metadata": {},
   "source": [
    "Let's also check unique values for `symmetry`, `polish` and `girdle`"
   ]
  },
  {
   "cell_type": "code",
   "execution_count": 7,
   "metadata": {},
   "outputs": [
    {
     "name": "stdout",
     "output_type": "stream",
     "text": [
      "Unique values for column symmetry - ['Good' 'Excellent' 'Very Good' 'Fair']\n",
      "Unique values for column polish - ['Very Good' 'Excellent' 'Good']\n",
      "Unique values for column girdle - ['6.5' 'Slightly Thick - Thick' 'Thick' '4.5' 'Very Thick' 'Medium'\n",
      " 'Medium - Thick' 'Thin - Slightly Thick'\n",
      " 'Slightly Thick - Thick, Faceted' 'Thick - Very Thick(Faceted)'\n",
      " 'Medium - Slightly Thick' 'Thin - Thick' 'Medium - Very Thick'\n",
      " 'Very Thin - Thick, Faceted' 'Slightly Thick'\n",
      " 'Thin - Very Thick(Faceted)' 'Thick - Very Thick' 'Thin' '5'\n",
      " 'Medium - Slightly Thick - (Facete' '6' 'Thick - Very Thick, Faceted'\n",
      " 'Very Thin' 'Slightly Thick - Very Thick(Faceted)'\n",
      " 'Medium - Slightly Thick, Faceted' '5.5' '7' 'Very Thin - Thick'\n",
      " 'Sl.Tk - Thick' 'Thick - V.Tk' 'Slightly Thick - Very Thick' '4'\n",
      " 'Medium - Thick, Faceted' 'Thin - Slightly Thick, Faceted'\n",
      " 'Thick, Faceted' 'Thin - Very Thick' 'V.Tn - Thick'\n",
      " 'Medium - Very Thick(Faceted)' 'Very Thin - Very Thick(Faceted)'\n",
      " 'Thick - Thick(Faceted)' 'Thin - Very Thick, Faceted'\n",
      " 'Very Thick, Faceted' 'Slightly Thick - Thick(Faceted)'\n",
      " 'Thin - Thick(Faceted)' 'Sl.Tk' '3.4' 'Extremely Thin - Very Thick'\n",
      " 'Slightly Thick, Faceted' 'Extremely Thin - Slightly Thick'\n",
      " 'Thin - Thick, Faceted' 'Medium - Sl.Tk' 'Medium - V.Tk'\n",
      " 'Slightly Thick - Thick - (Faceted' 'Medium - Thick(Faceted)'\n",
      " 'Thin - Medium' 'Sl.Tk - V.Tk' 'Extremely Thin'\n",
      " 'Slightly Thick - Slightly Thick, Faceted'\n",
      " 'Medium - Extremely Thick, Faceted' '3.7' '3.9' 'Pointed'\n",
      " 'Thick - Extremely Thick, Faceted'\n",
      " 'Very Thick - Extremely Thick, Faceted' 'Thick - Thick, Faceted' '5.7'\n",
      " '7.5' '3.5' 'Very Thick - Very Thick' 'Extremely Thick, Faceted' '7.1'\n",
      " 'Very Thin - Slightly Thick' '6.3' '6.2' 'Medium - Very Thick, Faceted'\n",
      " '6.9' 'Slightly Thick - Very Thick, Faceted' 'Thin - Sl.Tk'\n",
      " 'Very Thick - Very Thick(Faceted)' 'Extremely Thin - Thick(Faceted)'\n",
      " '3.8' '3.6' 'Very Thin - Thick(Faceted)' '6.1' '5.1'\n",
      " 'Very Thin - Very Thick' 'V.Tk' '5.3' '5.6'\n",
      " 'Extremely Thin - Very Thick(Faceted)' 'Medium - Medium'\n",
      " 'Medium - Slightly Thick(Faceted)' '8' 'Extremely Thick' '5.4'\n",
      " 'Thin - Medium, Faceted' '4.1' '4.2'\n",
      " 'Slightly Thick - Extremely Thick, Faceted' '6.6' '6.4' '4.3' 'None' '3'\n",
      " 'Medium, Faceted' '2.9' 'Strong' 'Faint']\n"
     ]
    }
   ],
   "source": [
    "cols = ['symmetry', 'polish', 'girdle']\n",
    "\n",
    "for col in cols:\n",
    "    print(f\"Unique values for column {col} - {pd.unique(df[col])}\")"
   ]
  },
  {
   "attachments": {},
   "cell_type": "markdown",
   "metadata": {},
   "source": [
    "We can see that only `symmetry` and `polish` can be helpful, but `girdle` is not relevant since it has too many unique values."
   ]
  },
  {
   "cell_type": "code",
   "execution_count": 8,
   "metadata": {},
   "outputs": [],
   "source": [
    "df.drop(columns=['girdle'], inplace=True)\n",
    "\n",
    "df['symmetry'].replace(to_replace=['Excellent', 'Very Good', 'Good', 'Fair'],\n",
    "    value=[4, 3, 2, 1], inplace=True)\n",
    "\n",
    "df['polish'].replace(to_replace=['Excellent', 'Very Good', 'Good'],\n",
    "    value=[3, 2, 1], inplace=True)"
   ]
  },
  {
   "cell_type": "code",
   "execution_count": 9,
   "metadata": {},
   "outputs": [
    {
     "name": "stdout",
     "output_type": "stream",
     "text": [
      "<class 'pandas.core.frame.DataFrame'>\n",
      "RangeIndex: 4899 entries, 0 to 4898\n",
      "Data columns (total 12 columns):\n",
      " #   Column     Non-Null Count  Dtype  \n",
      "---  ------     --------------  -----  \n",
      " 0   price      4899 non-null   float64\n",
      " 1   carat      4899 non-null   float64\n",
      " 2   cut        4899 non-null   int64  \n",
      " 3   color      4899 non-null   int64  \n",
      " 4   clarity    4899 non-null   int64  \n",
      " 5   table_pct  4899 non-null   float64\n",
      " 6   depth_pct  4899 non-null   float64\n",
      " 7   symmetry   4899 non-null   int64  \n",
      " 8   polish     4899 non-null   int64  \n",
      " 9   x          4899 non-null   float64\n",
      " 10  y          4899 non-null   float64\n",
      " 11  z          4899 non-null   float64\n",
      "dtypes: float64(7), int64(5)\n",
      "memory usage: 459.4 KB\n"
     ]
    },
    {
     "data": {
      "text/html": [
       "<div>\n",
       "<style scoped>\n",
       "    .dataframe tbody tr th:only-of-type {\n",
       "        vertical-align: middle;\n",
       "    }\n",
       "\n",
       "    .dataframe tbody tr th {\n",
       "        vertical-align: top;\n",
       "    }\n",
       "\n",
       "    .dataframe thead th {\n",
       "        text-align: right;\n",
       "    }\n",
       "</style>\n",
       "<table border=\"1\" class=\"dataframe\">\n",
       "  <thead>\n",
       "    <tr style=\"text-align: right;\">\n",
       "      <th></th>\n",
       "      <th>price</th>\n",
       "      <th>carat</th>\n",
       "      <th>cut</th>\n",
       "      <th>color</th>\n",
       "      <th>clarity</th>\n",
       "      <th>table_pct</th>\n",
       "      <th>depth_pct</th>\n",
       "      <th>symmetry</th>\n",
       "      <th>polish</th>\n",
       "      <th>x</th>\n",
       "      <th>y</th>\n",
       "      <th>z</th>\n",
       "    </tr>\n",
       "  </thead>\n",
       "  <tbody>\n",
       "    <tr>\n",
       "      <th>0</th>\n",
       "      <td>2470.0</td>\n",
       "      <td>0.9</td>\n",
       "      <td>2</td>\n",
       "      <td>5</td>\n",
       "      <td>1</td>\n",
       "      <td>63.0</td>\n",
       "      <td>65.5</td>\n",
       "      <td>2</td>\n",
       "      <td>2</td>\n",
       "      <td>5.96</td>\n",
       "      <td>5.91</td>\n",
       "      <td>3.89</td>\n",
       "    </tr>\n",
       "    <tr>\n",
       "      <th>1</th>\n",
       "      <td>2470.0</td>\n",
       "      <td>0.9</td>\n",
       "      <td>3</td>\n",
       "      <td>1</td>\n",
       "      <td>3</td>\n",
       "      <td>59.0</td>\n",
       "      <td>64.5</td>\n",
       "      <td>4</td>\n",
       "      <td>2</td>\n",
       "      <td>6.04</td>\n",
       "      <td>5.99</td>\n",
       "      <td>3.88</td>\n",
       "    </tr>\n",
       "    <tr>\n",
       "      <th>2</th>\n",
       "      <td>2470.0</td>\n",
       "      <td>0.9</td>\n",
       "      <td>3</td>\n",
       "      <td>2</td>\n",
       "      <td>1</td>\n",
       "      <td>57.0</td>\n",
       "      <td>64.6</td>\n",
       "      <td>3</td>\n",
       "      <td>2</td>\n",
       "      <td>6.00</td>\n",
       "      <td>5.93</td>\n",
       "      <td>3.85</td>\n",
       "    </tr>\n",
       "    <tr>\n",
       "      <th>3</th>\n",
       "      <td>2470.0</td>\n",
       "      <td>0.9</td>\n",
       "      <td>3</td>\n",
       "      <td>3</td>\n",
       "      <td>1</td>\n",
       "      <td>57.0</td>\n",
       "      <td>63.0</td>\n",
       "      <td>4</td>\n",
       "      <td>3</td>\n",
       "      <td>6.14</td>\n",
       "      <td>6.09</td>\n",
       "      <td>3.85</td>\n",
       "    </tr>\n",
       "    <tr>\n",
       "      <th>4</th>\n",
       "      <td>2480.0</td>\n",
       "      <td>0.9</td>\n",
       "      <td>2</td>\n",
       "      <td>3</td>\n",
       "      <td>2</td>\n",
       "      <td>59.0</td>\n",
       "      <td>67.3</td>\n",
       "      <td>3</td>\n",
       "      <td>3</td>\n",
       "      <td>5.84</td>\n",
       "      <td>5.79</td>\n",
       "      <td>3.91</td>\n",
       "    </tr>\n",
       "  </tbody>\n",
       "</table>\n",
       "</div>"
      ],
      "text/plain": [
       "    price  carat  cut  color  clarity  table_pct  depth_pct  symmetry  polish  \\\n",
       "0  2470.0    0.9    2      5        1       63.0       65.5         2       2   \n",
       "1  2470.0    0.9    3      1        3       59.0       64.5         4       2   \n",
       "2  2470.0    0.9    3      2        1       57.0       64.6         3       2   \n",
       "3  2470.0    0.9    3      3        1       57.0       63.0         4       3   \n",
       "4  2480.0    0.9    2      3        2       59.0       67.3         3       3   \n",
       "\n",
       "      x     y     z  \n",
       "0  5.96  5.91  3.89  \n",
       "1  6.04  5.99  3.88  \n",
       "2  6.00  5.93  3.85  \n",
       "3  6.14  6.09  3.85  \n",
       "4  5.84  5.79  3.91  "
      ]
     },
     "execution_count": 9,
     "metadata": {},
     "output_type": "execute_result"
    }
   ],
   "source": [
    "df.reset_index(inplace=True, drop=True)\n",
    "df.info()\n",
    "df.head()"
   ]
  },
  {
   "attachments": {},
   "cell_type": "markdown",
   "metadata": {},
   "source": [
    "### 3. EDA and visualizations\n",
    "As our dataset is now clean and ready for use, let's look for some interesting facts about our data.  \n",
    "First of all, let's explore the most common values for `clarity`, `color` and `cut`:  \n"
   ]
  },
  {
   "cell_type": "code",
   "execution_count": 10,
   "metadata": {},
   "outputs": [
    {
     "data": {
      "image/png": "[encoded data removed]",
      "text/plain": [
       "<Figure size 1000x400 with 3 Axes>"
      ]
     },
     "metadata": {},
     "output_type": "display_data"
    }
   ],
   "source": [
    "cols = ['clarity', 'color', 'cut']\n",
    "\n",
    "fig, axes = plt.subplots(nrows=1, ncols=3, figsize=(10, 4))\n",
    "i = 0\n",
    "for col in cols:\n",
    "    axes[i].hist(df[col])\n",
    "    axes[i].set_xlabel(col)\n",
    "    axes[i].set_ylabel('Frequency')\n",
    "    i+=1\n",
    "plt.tight_layout()"
   ]
  },
  {
   "attachments": {},
   "cell_type": "markdown",
   "metadata": {},
   "source": [
    "We can **clearly** see that the worst `clarity` (SI2) is most common, and as `clarity` gets better, there are less diamonds.  \n",
    "Meaning the highest clarities FL(8), IF(7) can barely be found, while the lowest clarities SI2(1), SI1(2) are most common.  \n",
    "For `color` also the best colors are less common, but also the worst color are not so common as well.  \n",
    "The most common colors are the mid range colors I(2) and H(3).  \n",
    "For `cut`, there is no pattern that can be identified.  "
   ]
  },
  {
   "attachments": {},
   "cell_type": "markdown",
   "metadata": {},
   "source": [
    "Let's check the same for `symmetry` and `polish`:"
   ]
  },
  {
   "cell_type": "code",
   "execution_count": 11,
   "metadata": {},
   "outputs": [
    {
     "data": {
      "image/png": "[encoded data removed]",
      "text/plain": [
       "<Figure size 1000x400 with 2 Axes>"
      ]
     },
     "metadata": {},
     "output_type": "display_data"
    }
   ],
   "source": [
    "cols = ['symmetry', 'polish']\n",
    "\n",
    "fig, axes = plt.subplots(nrows=1, ncols=2, figsize=(10, 4))\n",
    "i = 0\n",
    "for col in cols:\n",
    "    axes[i].hist(df[col])\n",
    "    axes[i].set_xlabel(col)\n",
    "    axes[i].set_ylabel('Frequency')\n",
    "    i+=1\n",
    "plt.tight_layout()"
   ]
  },
  {
   "attachments": {},
   "cell_type": "markdown",
   "metadata": {},
   "source": [
    "Seems that most of the diamonds I fetched has the best `polish` and `symmetry`.  \n",
    "This probably means that https://brilliantearth.com website only treats high quality products 😀."
   ]
  },
  {
   "attachments": {},
   "cell_type": "markdown",
   "metadata": {},
   "source": [
    "From the diamond range I fetched (0.90-1.20), let's see which carat size is most common:"
   ]
  },
  {
   "cell_type": "code",
   "execution_count": 12,
   "metadata": {},
   "outputs": [
    {
     "data": {
      "text/plain": [
       "Text(0, 0.5, 'Frequency')"
      ]
     },
     "execution_count": 12,
     "metadata": {},
     "output_type": "execute_result"
    },
    {
     "data": {
      "image/png": "[encoded data removed]",
      "text/plain": [
       "<Figure size 640x480 with 1 Axes>"
      ]
     },
     "metadata": {},
     "output_type": "display_data"
    }
   ],
   "source": [
    "ax = df['carat'].plot.hist()\n",
    "ax.set_xlabel('carat')\n",
    "ax.set_ylabel('Frequency')"
   ]
  },
  {
   "attachments": {},
   "cell_type": "markdown",
   "metadata": {},
   "source": [
    "We can see that in the dataset, most of the diamonds are 0.90 carat or 1.00 carat."
   ]
  },
  {
   "attachments": {},
   "cell_type": "markdown",
   "metadata": {},
   "source": [
    "Let's check correlation between the diamond price and the 4Cs:\n",
    "1. Carat\n",
    "2. Color\n",
    "3. Clarity\n",
    "4. Cut"
   ]
  },
  {
   "cell_type": "code",
   "execution_count": 13,
   "metadata": {},
   "outputs": [
    {
     "data": {
      "text/plain": [
       "<AxesSubplot: >"
      ]
     },
     "execution_count": 13,
     "metadata": {},
     "output_type": "execute_result"
    },
    {
     "data": {
      "image/png": "[encoded data removed]",
      "text/plain": [
       "<Figure size 640x480 with 2 Axes>"
      ]
     },
     "metadata": {},
     "output_type": "display_data"
    }
   ],
   "source": [
    "sub_df = df[['price', 'carat', 'color', 'clarity', 'cut']]\n",
    "sub_df_corr = sub_df.corr()\n",
    "sns.heatmap(sub_df_corr, cmap=\"Blues\", annot=True)"
   ]
  },
  {
   "attachments": {},
   "cell_type": "markdown",
   "metadata": {},
   "source": [
    "We can see that `carat`, `clarity` and `cut` has some correlation with `price` column.  \n",
    "Meaning that if `carat`, `clarity`, `cut` increases, `price` is also increasing in chance of ~60%.  \n",
    "On the other hand, `color` does not correlate with the diamond price."
   ]
  },
  {
   "attachments": {},
   "cell_type": "markdown",
   "metadata": {},
   "source": [
    "Let's also check the additional columns we have in the dataset:\n",
    "1. `symmetry`\n",
    "2. `polish`\n",
    "3. `table_pct`\n",
    "4. `depth_pct`"
   ]
  },
  {
   "cell_type": "code",
   "execution_count": 28,
   "metadata": {},
   "outputs": [
    {
     "data": {
      "text/plain": [
       "<AxesSubplot: >"
      ]
     },
     "execution_count": 28,
     "metadata": {},
     "output_type": "execute_result"
    },
    {
     "data": {
      "image/png": "[encoded data removed]",
      "text/plain": [
       "<Figure size 640x480 with 2 Axes>"
      ]
     },
     "metadata": {},
     "output_type": "display_data"
    }
   ],
   "source": [
    "sub_df = df[['price', 'symmetry', 'polish', 'table_pct', 'depth_pct']]\n",
    "sub_df_corr = sub_df.corr()\n",
    "sns.heatmap(sub_df_corr, cmap=\"Blues\", annot=True)"
   ]
  },
  {
   "attachments": {},
   "cell_type": "markdown",
   "metadata": {},
   "source": [
    "While `symmetry` has about 50%~ correlation with `price`, the other columns are less relevant."
   ]
  },
  {
   "attachments": {},
   "cell_type": "markdown",
   "metadata": {},
   "source": [
    "### 4. Model train and prediction\n",
    "We will try to predict the `price` column based on the information we have on the diamond.  \n",
    "Here are 2 functions for reuse."
   ]
  },
  {
   "cell_type": "code",
   "execution_count": 22,
   "metadata": {},
   "outputs": [],
   "source": [
    "def preprate_dataset_for_model(df, y_column):\n",
    "    y = df[y_column]\n",
    "    X = df.copy()\n",
    "    del X[y_column]\n",
    "    return X, y"
   ]
  },
  {
   "cell_type": "code",
   "execution_count": 23,
   "metadata": {},
   "outputs": [],
   "source": [
    "def model_train_and_predict(df, y_column, test_size, rand_state):\n",
    "    X, y = preprate_dataset_for_model(df, y_column)\n",
    "\n",
    "    X_train, X_test, y_train, y_test = train_test_split(X, y, test_size=test_size, random_state=rand_state)\n",
    "\n",
    "    model = LinearRegression()\n",
    "    model.fit(X_train, y_train)\n",
    "    y_predicted = model.predict(X_test)\n",
    "    evaluate_r2 = r2_score(y_test, y_predicted)\n",
    "    df_res = pd.DataFrame(columns=['y_test', 'y_predicted'])\n",
    "    df_res['y_test'] = y_test\n",
    "    df_res['y_predicted'] = y_predicted\n",
    "    df_res.reset_index(inplace=True, drop=True)\n",
    "    print(df_res)\n",
    "    print(f\"Model r2 score is {evaluate_r2}\")"
   ]
  },
  {
   "attachments": {},
   "cell_type": "markdown",
   "metadata": {},
   "source": [
    "First of all, let's try to predict the price column, based only on the 4Cs (like the price list does)."
   ]
  },
  {
   "cell_type": "code",
   "execution_count": 31,
   "metadata": {},
   "outputs": [
    {
     "name": "stdout",
     "output_type": "stream",
     "text": [
      "      y_test  y_predicted\n",
      "0     4950.0  4531.802993\n",
      "1     3720.0  3491.837357\n",
      "2     7330.0  5691.437178\n",
      "3     2960.0  3887.014687\n",
      "4     6180.0  6903.198049\n",
      "...      ...          ...\n",
      "1220  9960.0  7681.905394\n",
      "1221  7960.0  7040.933506\n",
      "1222  4830.0  4635.847615\n",
      "1223  4160.0  4449.200612\n",
      "1224  3560.0  3979.251799\n",
      "\n",
      "[1225 rows x 2 columns]\n",
      "Model r2 score is 0.8083154889312754\n"
     ]
    }
   ],
   "source": [
    "model_train_and_predict(df[['price', 'carat', 'color', 'clarity', 'cut']], 'price', 0.25, 7)"
   ]
  },
  {
   "attachments": {},
   "cell_type": "markdown",
   "metadata": {},
   "source": [
    "We reached R2 score of ~0.808 which is overall pretty good.\n",
    "The dataset includes much more features about the diamonds:\n",
    "1. `symmetry`\n",
    "2. `polish`\n",
    "3. `x`\n",
    "4. `y`\n",
    "5. `z`\n",
    "6. `table_pct`\n",
    "7. `depth_pct`\n",
    "\n",
    "Let's see if using all the features in the dataset brings better prediction results."
   ]
  },
  {
   "cell_type": "code",
   "execution_count": 27,
   "metadata": {},
   "outputs": [
    {
     "name": "stdout",
     "output_type": "stream",
     "text": [
      "      y_test  y_predicted\n",
      "0     4950.0  4525.611696\n",
      "1     3720.0  3376.848786\n",
      "2     7330.0  5686.642339\n",
      "3     2960.0  3795.031689\n",
      "4     6180.0  6869.920258\n",
      "...      ...          ...\n",
      "1220  9960.0  7671.247093\n",
      "1221  7960.0  7040.771144\n",
      "1222  4830.0  4662.611090\n",
      "1223  4160.0  4520.784106\n",
      "1224  3560.0  3939.163535\n",
      "\n",
      "[1225 rows x 2 columns]\n",
      "Model r2 score is 0.809260893022758\n"
     ]
    }
   ],
   "source": [
    "model_train_and_predict(df, 'price', 0.25, 7)"
   ]
  },
  {
   "attachments": {},
   "cell_type": "markdown",
   "metadata": {},
   "source": [
    "We reached R2 score of ~0.809, so involving all new features is not beneficial.  \n",
    "Let's try to remove `color` as this is the least correlated feature from the 4Cs, and use only `symmetry` instead."
   ]
  },
  {
   "cell_type": "code",
   "execution_count": 29,
   "metadata": {},
   "outputs": [
    {
     "name": "stdout",
     "output_type": "stream",
     "text": [
      "      y_test  y_predicted\n",
      "0     4950.0  4326.882359\n",
      "1     3720.0  3248.910968\n",
      "2     7330.0  5664.021295\n",
      "3     2960.0  3662.030751\n",
      "4     6180.0  5664.021295\n",
      "...      ...          ...\n",
      "1220  9960.0  6789.091187\n",
      "1221  7960.0  6568.441043\n",
      "1222  4830.0  4440.925291\n",
      "1223  4160.0  4779.092232\n",
      "1224  3560.0  4067.250845\n",
      "\n",
      "[1225 rows x 2 columns]\n",
      "Model r2 score is 0.7294075844808778\n"
     ]
    }
   ],
   "source": [
    "model_train_and_predict(df[['price', 'carat', 'clarity', 'cut', 'symmetry']], 'price', 0.25, 7)"
   ]
  },
  {
   "attachments": {},
   "cell_type": "markdown",
   "metadata": {},
   "source": [
    "We got a worst result.  \n",
    "One last try - not involving `symmetry` but also drop `color`."
   ]
  },
  {
   "cell_type": "code",
   "execution_count": 30,
   "metadata": {},
   "outputs": [
    {
     "name": "stdout",
     "output_type": "stream",
     "text": [
      "      y_test  y_predicted\n",
      "0     4950.0  4326.543060\n",
      "1     3720.0  3250.895122\n",
      "2     7330.0  5663.851164\n",
      "3     2960.0  3658.868017\n",
      "4     6180.0  5663.851164\n",
      "...      ...          ...\n",
      "1220  9960.0  6789.227140\n",
      "1221  7960.0  6568.322353\n",
      "1222  4830.0  4437.974462\n",
      "1223  4160.0  4778.778655\n",
      "1224  3560.0  4066.840912\n",
      "\n",
      "[1225 rows x 2 columns]\n",
      "Model r2 score is 0.7294099699535548\n"
     ]
    }
   ],
   "source": [
    "model_train_and_predict(df[['price', 'carat', 'clarity', 'cut']], 'price', 0.25, 7)"
   ]
  },
  {
   "attachments": {},
   "cell_type": "markdown",
   "metadata": {},
   "source": [
    "Same outcome as before."
   ]
  },
  {
   "attachments": {},
   "cell_type": "markdown",
   "metadata": {},
   "source": [
    "### 5. Conclusion\n",
    "Seems that the orgnization who sets the diamonds prices (which is GIA - https://www.gia.edu/) did some pretty good work.  \n",
    "Looking at the above results, we can understand that treating the 4Cs as the only features for the diamond price prediction, brings the best results.  \n",
    "On the other hand, we can also learn that even for two identical diamonds in terms of the 4Cs, the price is not fixed, and is affected but other details as well.\n"
   ]
  },
  {
   "cell_type": "markdown",
   "metadata": {},
   "source": []
  }
 ],
 "metadata": {
  "kernelspec": {
   "display_name": "Python 3.10.8 ('venv': venv)",
   "language": "python",
   "name": "python3"
  },
  "language_info": {
   "codemirror_mode": {
    "name": "ipython",
    "version": 3
   },
   "file_extension": ".py",
   "mimetype": "text/x-python",
   "name": "python",
   "nbconvert_exporter": "python",
   "pygments_lexer": "ipython3",
   "version": "3.10.9"
  },
  "orig_nbformat": 4,
  "vscode": {
   "interpreter": {
    "hash": "a472982b94f5eca1a1343e915ab96e6fcc29fddbce54e3617cc9ed25b43b4fca"
   }
  }
 },
 "nbformat": 4,
 "nbformat_minor": 2
}
